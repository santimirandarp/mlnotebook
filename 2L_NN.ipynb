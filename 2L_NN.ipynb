{
  "nbformat": 4,
  "nbformat_minor": 0,
  "metadata": {
    "colab": {
      "name": "2L-NN.ipynb",
      "provenance": [],
      "collapsed_sections": [
        "OLOZUkUG1Glk",
        "sXa7tYoohz_U"
      ],
      "include_colab_link": true
    },
    "kernelspec": {
      "display_name": "Python 3",
      "name": "python3"
    }
  },
  "cells": [
    {
      "cell_type": "markdown",
      "metadata": {
        "id": "view-in-github",
        "colab_type": "text"
      },
      "source": [
        "<a href=\"https://colab.research.google.com/github/santimirandarp/mlnotebook/blob/main/2L_NN.ipynb\" target=\"_parent\"><img src=\"https://colab.research.google.com/assets/colab-badge.svg\" alt=\"Open In Colab\"/></a>"
      ]
    },
    {
      "cell_type": "markdown",
      "metadata": {
        "id": "YBtZ0Mh261iI"
      },
      "source": [
        "# Classification with 2L-NN\n",
        "\n",
        "\n"
      ]
    },
    {
      "cell_type": "markdown",
      "metadata": {
        "id": "ajMXQr3rSor2"
      },
      "source": [
        "## Data \n",
        "1. Source: [From this site](https://machinelearningmastery.com/results-for-standard-classification-and-regression-machine-learning-datasets/)\n",
        "2. Load data\n",
        "3. Explore\n",
        "4. Generate Datasets\n"
      ]
    },
    {
      "cell_type": "code",
      "metadata": {
        "colab": {
          "base_uri": "https://localhost:8080/",
          "height": 206
        },
        "id": "hgqTNBqNjY5_",
        "outputId": "5a0d07e1-2333-46ed-e798-806c35600888"
      },
      "source": [
        "import pandas as pd # to load csv\r\n",
        "import numpy as np # linear algebra\r\n",
        "import matplotlib.pyplot as plt # plots\r\n",
        "dataUrl = \"https://raw.githubusercontent.com/santimirandarp/mlnotebook/main/diabetes.csv\"\r\n",
        "df = pd.read_csv(dataUrl)\r\n",
        "df.head()\r\n",
        "# df.columns.values\r\n"
      ],
      "execution_count": 120,
      "outputs": [
        {
          "output_type": "execute_result",
          "data": {
            "text/html": [
              "<div>\n",
              "<style scoped>\n",
              "    .dataframe tbody tr th:only-of-type {\n",
              "        vertical-align: middle;\n",
              "    }\n",
              "\n",
              "    .dataframe tbody tr th {\n",
              "        vertical-align: top;\n",
              "    }\n",
              "\n",
              "    .dataframe thead th {\n",
              "        text-align: right;\n",
              "    }\n",
              "</style>\n",
              "<table border=\"1\" class=\"dataframe\">\n",
              "  <thead>\n",
              "    <tr style=\"text-align: right;\">\n",
              "      <th></th>\n",
              "      <th>6</th>\n",
              "      <th>148</th>\n",
              "      <th>72</th>\n",
              "      <th>35</th>\n",
              "      <th>0</th>\n",
              "      <th>33.6</th>\n",
              "      <th>0.627</th>\n",
              "      <th>50</th>\n",
              "      <th>1</th>\n",
              "    </tr>\n",
              "  </thead>\n",
              "  <tbody>\n",
              "    <tr>\n",
              "      <th>0</th>\n",
              "      <td>1</td>\n",
              "      <td>85</td>\n",
              "      <td>66</td>\n",
              "      <td>29</td>\n",
              "      <td>0</td>\n",
              "      <td>26.6</td>\n",
              "      <td>0.351</td>\n",
              "      <td>31</td>\n",
              "      <td>0</td>\n",
              "    </tr>\n",
              "    <tr>\n",
              "      <th>1</th>\n",
              "      <td>8</td>\n",
              "      <td>183</td>\n",
              "      <td>64</td>\n",
              "      <td>0</td>\n",
              "      <td>0</td>\n",
              "      <td>23.3</td>\n",
              "      <td>0.672</td>\n",
              "      <td>32</td>\n",
              "      <td>1</td>\n",
              "    </tr>\n",
              "    <tr>\n",
              "      <th>2</th>\n",
              "      <td>1</td>\n",
              "      <td>89</td>\n",
              "      <td>66</td>\n",
              "      <td>23</td>\n",
              "      <td>94</td>\n",
              "      <td>28.1</td>\n",
              "      <td>0.167</td>\n",
              "      <td>21</td>\n",
              "      <td>0</td>\n",
              "    </tr>\n",
              "    <tr>\n",
              "      <th>3</th>\n",
              "      <td>0</td>\n",
              "      <td>137</td>\n",
              "      <td>40</td>\n",
              "      <td>35</td>\n",
              "      <td>168</td>\n",
              "      <td>43.1</td>\n",
              "      <td>2.288</td>\n",
              "      <td>33</td>\n",
              "      <td>1</td>\n",
              "    </tr>\n",
              "    <tr>\n",
              "      <th>4</th>\n",
              "      <td>5</td>\n",
              "      <td>116</td>\n",
              "      <td>74</td>\n",
              "      <td>0</td>\n",
              "      <td>0</td>\n",
              "      <td>25.6</td>\n",
              "      <td>0.201</td>\n",
              "      <td>30</td>\n",
              "      <td>0</td>\n",
              "    </tr>\n",
              "  </tbody>\n",
              "</table>\n",
              "</div>"
            ],
            "text/plain": [
              "   6  148  72  35    0  33.6  0.627  50  1\n",
              "0  1   85  66  29    0  26.6  0.351  31  0\n",
              "1  8  183  64   0    0  23.3  0.672  32  1\n",
              "2  1   89  66  23   94  28.1  0.167  21  0\n",
              "3  0  137  40  35  168  43.1  2.288  33  1\n",
              "4  5  116  74   0    0  25.6  0.201  30  0"
            ]
          },
          "metadata": {
            "tags": []
          },
          "execution_count": 120
        }
      ]
    },
    {
      "cell_type": "markdown",
      "metadata": {
        "id": "ephqF6IFreYD"
      },
      "source": [
        "### Explore the data\n",
        "1. Balance between 0 and 1 (biased?)\n",
        "2. size (rows and cols)"
      ]
    },
    {
      "cell_type": "code",
      "metadata": {
        "colab": {
          "base_uri": "https://localhost:8080/"
        },
        "id": "gSihagD8t3-1",
        "outputId": "a845d396-32f0-4e9b-b1ff-c2f104c13493"
      },
      "source": [
        "balance = df.iloc[:, -1:].value_counts()\n",
        "samples = df.shape[0]\n",
        "features = df.shape[1]-1 # one is labels\n",
        "print(\"values of 1 and 0:\", balance)\n",
        "print(\"values of samples:\", samples)\n",
        "print(\"values of features:\", features)"
      ],
      "execution_count": 121,
      "outputs": [
        {
          "output_type": "stream",
          "text": [
            "values of 1 and 0: 1\n",
            "0    500\n",
            "1    267\n",
            "dtype: int64\n",
            "values of samples: 767\n",
            "values of features: 8\n"
          ],
          "name": "stdout"
        }
      ]
    },
    {
      "cell_type": "markdown",
      "metadata": {
        "id": "T8E2sXdMuNLY"
      },
      "source": [
        "### Generate datasets\n",
        "* Split train and validation dset\n",
        "* Store in object \"data\"\n",
        "* Convert each to numpy ndarray\n",
        "* print info"
      ]
    },
    {
      "cell_type": "code",
      "metadata": {
        "colab": {
          "base_uri": "https://localhost:8080/"
        },
        "id": "uwrD5_BAn9Vw",
        "outputId": "831f68c0-4d73-4d83-aa48-c8da36734b64"
      },
      "source": [
        "ix = -int(np.floor(np.sqrt(df.shape[0]))) #to build test dataset\n",
        "\n",
        "data = {\n",
        "    \"tf\": df.iloc[:ix,:-1], \n",
        "    \"tl\": df.iloc[:ix,-1:], \n",
        "    \"vf\": df.iloc[ix:,:-1], \n",
        "    \"vl\": df.iloc[ix:,-1:]\n",
        "    }\n",
        "\n",
        "#data to numpy n-dimensional arrays\n",
        "train_X = data[\"tf\"].to_numpy().T\n",
        "train_Y = data[\"tl\"].to_numpy().T\n",
        "test_X = data[\"vf\"].to_numpy().T\n",
        "test_Y = data[\"vl\"].to_numpy().T\n",
        "\n",
        "#print info\n",
        "print(\"training m, validation m: \", train_X.shape[0],\",\", -ix)\n",
        "print(\"m, features:\", train_X.shape)\n",
        "print(\"m, nodes:\", train_Y.shape)\n",
        " "
      ],
      "execution_count": 122,
      "outputs": [
        {
          "output_type": "stream",
          "text": [
            "training m, validation m:  8 , 27\n",
            "m, features: (8, 740)\n",
            "m, nodes: (1, 740)\n"
          ],
          "name": "stdout"
        }
      ]
    },
    {
      "cell_type": "markdown",
      "metadata": {
        "id": "KI0FqK6z3HbX"
      },
      "source": [
        "## Model\n",
        "\n",
        "* To start with, let's represent a simplified model\n",
        "* We have 7 nodes in the input layer\n",
        "* The rest is the same\n",
        "# <img src=\"https://raw.githubusercontent.com/santimirandarp/mlnotebook/main/model.png\" style=\"width:400px\"/>"
      ]
    },
    {
      "cell_type": "code",
      "metadata": {
        "colab": {
          "base_uri": "https://localhost:8080/"
        },
        "id": "LorZBUL11FKD",
        "outputId": "f302e0c4-b0f4-4d5e-fafa-97e33054408c"
      },
      "source": [
        "m = train_X.shape[1] \n",
        "print(m)"
      ],
      "execution_count": 123,
      "outputs": [
        {
          "output_type": "stream",
          "text": [
            "740\n"
          ],
          "name": "stdout"
        }
      ]
    },
    {
      "cell_type": "markdown",
      "metadata": {
        "id": "OLOZUkUG1Glk"
      },
      "source": [
        "### sigmoid\n",
        "We are classifying data, hence we use sigmoid. Numpy does not have it defined. \n",
        "\n",
        "It does have tanh used for hidden layers, so we don't define it."
      ]
    },
    {
      "cell_type": "code",
      "metadata": {
        "id": "6BtYR3CGEbcr"
      },
      "source": [
        "def sigmoid(z):\r\n",
        "    \"\"\"\r\n",
        "    Compute the sigmoid of z\r\n",
        "\r\n",
        "    Arguments:\r\n",
        "    x -- A scalar or numpy array of any size.\r\n",
        "\r\n",
        "    Return:\r\n",
        "    s -- sigmoid(z)\r\n",
        "    \"\"\"\r\n",
        "\r\n",
        "    ### START CODE HERE ### (≈ 1 line of code)\r\n",
        "    s = 1 / (1 + np.exp(-z))\r\n",
        "    ### END CODE HERE ###\r\n",
        "    \r\n",
        "    return s"
      ],
      "execution_count": 124,
      "outputs": []
    },
    {
      "cell_type": "markdown",
      "metadata": {
        "id": "MTFtJg8ag8nV"
      },
      "source": [
        "### Initialize parameters\n",
        "These are the W and B matrices, which in the end are the parameters for linear equations (Z(w1,w2,w3..)). \n",
        "\n",
        "We have to initialize them, W needs to be randomly initialized, or the neurons will compute the same thing."
      ]
    },
    {
      "cell_type": "code",
      "metadata": {
        "id": "YV0PAjofSQrp"
      },
      "source": [
        "def initialize_parameters(n_x, n_h, n_y):\n",
        "    \"\"\"\n",
        "    Argument:\n",
        "    n_x -- size of the input layer\n",
        "    n_h -- size of the hidden layer\n",
        "    n_y -- size of the output layer\n",
        "    \n",
        "    Returns:\n",
        "    params -- python dictionary containing your parameters:\n",
        "                    W1 -- weight matrix of shape (n_h, n_x)\n",
        "                    b1 -- bias vector of shape (n_h, 1)\n",
        "                    W2 -- weight matrix of shape (n_y, n_h)\n",
        "                    b2 -- bias vector of shape (n_y, 1)\n",
        "    \"\"\"\n",
        "    # same seed produces same random matrices.\n",
        "    np.random.seed(2) \n",
        "\n",
        "    ### matrices needed for each layer (1 and 2)\n",
        "    W1 = np.random.randn(n_h, n_x)*0.01\n",
        "    b1 = np.zeros((n_h, 1))\n",
        "    W2 = np.random.randn(n_y, n_h)*0.01\n",
        "    b2 = np.zeros((n_y, 1))\n",
        "       \n",
        "    # python dictionary\n",
        "    parameters = {\"W1\": W1, \"b1\": b1, \"W2\": W2, \"b2\": b2}   \n",
        "    return parameters"
      ],
      "execution_count": 126,
      "outputs": []
    },
    {
      "cell_type": "markdown",
      "metadata": {
        "id": "sXa7tYoohz_U"
      },
      "source": [
        "### Forward Propagation\n",
        "1. Use W, B for each layer\n",
        "2. Use training samples X\n",
        "3. Compute the Cost using $A_2$ and $Y$."
      ]
    },
    {
      "cell_type": "code",
      "metadata": {
        "id": "clkilTUVYIev"
      },
      "source": [
        "def forward_propagation(X, parameters):\n",
        "    \"\"\"\n",
        "    Argument:\n",
        "    X -- input data of size (n_x, m)\n",
        "    parameters -- python dictionary containing your parameters (output of initialization function)\n",
        "    \n",
        "    Returns:\n",
        "    A2 -- The sigmoid output of the second activation\n",
        "    cache -- a dictionary containing \"Z1\", \"A1\", \"Z2\" and \"A2\"\n",
        "    \"\"\"\n",
        "    # Retrieve each parameter from the dictionary \"parameters\"\n",
        "\n",
        "    W1 = parameters[\"W1\"]\n",
        "    b1 = parameters[\"b1\"]\n",
        "    W2 = parameters[\"W2\"]\n",
        "    b2 = parameters[\"b2\"]\n",
        "    \n",
        "    # Implement Forward Propagation to calculate A2 (probabilities)\n",
        "    Z1 = np.dot(W1, X) + b1 \n",
        "    A1 = np.tanh(Z1)\n",
        "    Z2 = np.dot(W2, A1) + b2\n",
        "    A2 = sigmoid(Z2)\n",
        "    \n",
        "    cache = {\"Z1\": Z1, \"A1\": A1, \"Z2\": Z2, \"A2\": A2}\n",
        "    \n",
        "    return A2, cache"
      ],
      "execution_count": 127,
      "outputs": []
    },
    {
      "cell_type": "code",
      "metadata": {
        "id": "Fgty_zMSYNei"
      },
      "source": [
        "\n",
        "def compute_cost(A2, Y, parameters):\n",
        "    \"\"\"\n",
        "    Computes the cross-entropy cost given in equation (13)\n",
        "    \n",
        "    Arguments:\n",
        "    A2 -- The sigmoid output of the second activation, of shape (1, number of examples)\n",
        "    Y -- \"true\" labels vector of shape (1, number of examples)\n",
        "    parameters -- python dictionary containing your parameters W1, b1, W2 and b2\n",
        "    [Note that the parameters argument is not used in this function, \n",
        "    but the auto-grader currently expects this parameter.\n",
        "    Future version of this notebook will fix both the notebook \n",
        "    and the auto-grader so that `parameters` is not needed.\n",
        "    For now, please include `parameters` in the function signature,\n",
        "    and also when invoking this function.]\n",
        "    \n",
        "    Returns:\n",
        "    cost -- cross-entropy cost given equation (13)\n",
        "    \n",
        "    \"\"\"\n",
        "    \n",
        "    m = Y.shape[1] # number of example\n",
        "\n",
        "    # Compute the cross-entropy cost\n",
        "    ### START CODE HERE ### (≈ 2 lines of code)\n",
        "    logprobs = np.multiply(Y, np.log(A2)) + np.multiply(1-Y, np.log(1-A2)) \n",
        "    cost = -1/m*np.sum(logprobs)\n",
        "    ### END CODE HERE ###\n",
        "    \n",
        "    cost = float(np.squeeze(cost))  # makes sure cost is the dimension we expect. \n",
        "                                    # E.g., turns [[17]] into 17 \n",
        "    \n",
        "    return cost"
      ],
      "execution_count": 128,
      "outputs": []
    },
    {
      "cell_type": "markdown",
      "metadata": {
        "id": "QEEpVv-iiTE8"
      },
      "source": [
        "### Backward Propagation\n",
        "1. Using cache matrices"
      ]
    },
    {
      "cell_type": "code",
      "metadata": {
        "id": "LIHxiIRsCPoo"
      },
      "source": [
        "def backward_propagation(parameters, cache, X, Y):\r\n",
        "    \"\"\"\r\n",
        "    Implement the backward propagation using the instructions above.\r\n",
        "    \r\n",
        "    Arguments:\r\n",
        "    parameters -- python dictionary containing our parameters \r\n",
        "    cache -- a dictionary containing \"Z1\", \"A1\", \"Z2\" and \"A2\".\r\n",
        "    X -- input data of shape (2, number of examples)\r\n",
        "    Y -- \"true\" labels vector of shape (1, number of examples)\r\n",
        "    \r\n",
        "    Returns:\r\n",
        "    grads -- python dictionary containing your gradients with respect to different parameters\r\n",
        "    \"\"\"\r\n",
        "    m = X.shape[1]\r\n",
        "    \r\n",
        "    # First, retrieve W1 and W2 from the dictionary \"parameters\".\r\n",
        "    ### START CODE HERE ### (≈ 2 lines of code)\r\n",
        "    W1 = parameters['W1']\r\n",
        "    W2 = parameters['W2']\r\n",
        "    ### END CODE HERE ###\r\n",
        "        \r\n",
        "    # Retrieve also A1 and A2 from dictionary \"cache\".\r\n",
        "    ### START CODE HERE ### (≈ 2 lines of code)\r\n",
        "    A1 = cache['A1']\r\n",
        "    A2 = cache['A2']\r\n",
        "    ### END CODE HERE ###\r\n",
        "    \r\n",
        "    # Backward propagation: calculate dW1, db1, dW2, db2. \r\n",
        "    ### START CODE HERE ### (≈ 6 lines of code, corresponding to 6 equations on slide above)\r\n",
        "    dZ2= A2 - Y\r\n",
        "    dW2 = (1 / m) * np.dot(dZ2, A1.T)\r\n",
        "    db2 = (1 / m) * np.sum(dZ2, axis=1, keepdims=True)\r\n",
        "    dZ1 = np.multiply(np.dot(W2.T, dZ2), 1 - np.power(A1, 2))\r\n",
        "    dW1 = (1 / m) * np.dot(dZ1, X.T)\r\n",
        "    db1 = (1 / m) * np.sum(dZ1, axis=1, keepdims=True)\r\n",
        "    ### END CODE HERE ###\r\n",
        "    \r\n",
        "    grads = {\"dW1\": dW1,\r\n",
        "             \"db1\": db1,\r\n",
        "             \"dW2\": dW2,\r\n",
        "             \"db2\": db2}\r\n",
        "    \r\n",
        "    return grads"
      ],
      "execution_count": 129,
      "outputs": []
    },
    {
      "cell_type": "code",
      "metadata": {
        "id": "2uLNTAbeCfzt"
      },
      "source": [
        "def update_parameters(parameters, grads, learning_rate=0.1):\r\n",
        "    \"\"\"\r\n",
        "    Updates parameters using the gradient descent update rule given above\r\n",
        "    \r\n",
        "    Arguments:\r\n",
        "    parameters -- python dictionary containing your parameters \r\n",
        "    grads -- python dictionary containing your gradients \r\n",
        "    \r\n",
        "    Returns:\r\n",
        "    parameters -- python dictionary containing your updated parameters \r\n",
        "    \"\"\"\r\n",
        "    # Retrieve each parameter from the dictionary \"parameters\"\r\n",
        "    W1 = parameters['W1']\r\n",
        "    b1 = parameters['b1']\r\n",
        "    W2 = parameters['W2']\r\n",
        "    b2 = parameters['b2']\r\n",
        "    \r\n",
        "    # gradients\r\n",
        "    dW1 = grads['dW1']\r\n",
        "    db1 = grads['db1']\r\n",
        "    dW2 = grads['dW2']\r\n",
        "    db2 = grads['db2']\r\n",
        "\r\n",
        "    # update\r\n",
        "    W1 = W1 - learning_rate*dW1\r\n",
        "    b1 = b1 - learning_rate*db1\r\n",
        "    W2 = W2 - learning_rate*dW2\r\n",
        "    b2 = b2 - learning_rate*db2\r\n",
        "    \r\n",
        "    parameters = {\"W1\": W1,\r\n",
        "                  \"b1\": b1,\r\n",
        "                  \"W2\": W2,\r\n",
        "                  \"b2\": b2}\r\n",
        "    \r\n",
        "    return parameters"
      ],
      "execution_count": 130,
      "outputs": []
    },
    {
      "cell_type": "code",
      "metadata": {
        "id": "T0YiunrlC5lb"
      },
      "source": [
        "def nn_model(X, Y, n_h, num_iterations=10000, print_cost=False, lr=0.1):\r\n",
        "    \"\"\"\r\n",
        "    Arguments:\r\n",
        "    X -- dataset of shape (2, number of examples)\r\n",
        "    Y -- labels of shape (1, number of examples)\r\n",
        "    n_h -- size of the hidden layer\r\n",
        "    num_iterations -- Number of iterations in gradient descent loop\r\n",
        "    print_cost -- if True, print the cost every 1000 iterations\r\n",
        "    \r\n",
        "    Returns:\r\n",
        "    parameters -- parameters learnt by the model. They can then be used to predict.\r\n",
        "    \"\"\"\r\n",
        "    err = []\r\n",
        "    np.random.seed(3)\r\n",
        "    n_x = layer_sizes(X, Y)[0]\r\n",
        "    n_y = layer_sizes(X, Y)[2]\r\n",
        "    \r\n",
        "    parameters = initialize_parameters(n_x, n_h, n_y)\r\n",
        "    W1 = parameters['W1']\r\n",
        "    b1 = parameters['b1']\r\n",
        "    W2 = parameters['W2']\r\n",
        "    b2 = parameters['b2']\r\n",
        "    \r\n",
        "    # Loop (gradient descent)\r\n",
        "\r\n",
        "    for i in range(0, num_iterations):\r\n",
        "         \r\n",
        "        # Forward propagation. Inputs: \"X, parameters\". Outputs: \"A2, cache\".\r\n",
        "        A2, cache = forward_propagation(X, parameters)\r\n",
        "        \r\n",
        "        # Cost function. Inputs: \"A2, Y, parameters\". Outputs: \"cost\".\r\n",
        "        cost = compute_cost(A2, Y, parameters)\r\n",
        " \r\n",
        "        # Backpropagation. Inputs: \"parameters, cache, X, Y\". Outputs: \"grads\".\r\n",
        "        grads = backward_propagation(parameters, cache, X, Y)\r\n",
        " \r\n",
        "        # Gradient descent parameter update. Inputs: \"parameters, grads\". Outputs: \"parameters\".\r\n",
        "        parameters = update_parameters(parameters, grads, learning_rate=lr)\r\n",
        "         \r\n",
        "        # Print the cost every 1000 iterations\r\n",
        "        if cost and i%1000==0:\r\n",
        "            err.append(cost)\r\n",
        "        if print_cost and i % 1000 == 0:\r\n",
        "            print (\"Cost after iteration %i: %f\" % (i, cost))\r\n",
        "\r\n",
        "    return parameters, err\r\n",
        "\r\n"
      ],
      "execution_count": 131,
      "outputs": []
    },
    {
      "cell_type": "code",
      "metadata": {
        "colab": {
          "base_uri": "https://localhost:8080/",
          "height": 347
        },
        "id": "9ZST0-BYPAhO",
        "outputId": "eb6ab706-a927-4dff-a827-cd6ff28490bf"
      },
      "source": [
        "# test with != learning rates\n",
        "lrs = [0.1, 0.3, 1]\n",
        "for count, lr in enumerate(lrs):\n",
        "  print(lr)    \n",
        "  parameters, err = nn_model(train_X, train_Y, 8, num_iterations=10000, print_cost=False, lr=lr)\n",
        "  plt.plot(err)\n",
        "  plt.title(\"iteration vs error for each learning rate\")\n",
        "  plt.xlabel(\"iteration\")\n",
        "  plt.ylabel(\"error\")\n",
        "  plt.legend(\"lr {}\".format(count))\n",
        "plt.show()"
      ],
      "execution_count": 132,
      "outputs": [
        {
          "output_type": "stream",
          "text": [
            "0.1\n",
            "0.3\n",
            "1\n"
          ],
          "name": "stdout"
        },
        {
          "output_type": "display_data",
          "data": {
            "image/png": "[encoded data removed]",
            "text/plain": [
              "<Figure size 432x288 with 1 Axes>"
            ]
          },
          "metadata": {
            "tags": [],
            "needs_background": "light"
          }
        }
      ]
    },
    {
      "cell_type": "markdown",
      "metadata": {
        "id": "lviHwpROI00d"
      },
      "source": [
        "# Prediction"
      ]
    },
    {
      "cell_type": "code",
      "metadata": {
        "id": "BEn1oLMoDE_M"
      },
      "source": [
        "def predict(parameters, X):\r\n",
        "    \"\"\"\r\n",
        "    Using the learned parameters, predicts a class for each example in X\r\n",
        "    \r\n",
        "    Arguments:\r\n",
        "    parameters -- python dictionary containing your parameters \r\n",
        "    X -- input data of size (n_x, m)\r\n",
        "    \r\n",
        "    Returns\r\n",
        "    predictions -- vector of predictions of our model (red: 0 / blue: 1)\r\n",
        "    \"\"\"\r\n",
        "    \r\n",
        "    # Computes probabilities using forward propagation, and classifies to 0/1 using 0.5 as the threshold.\r\n",
        "    ### START CODE HERE ### (≈ 2 lines of code)\r\n",
        "    A2, cache = forward_propagation(X, parameters)\r\n",
        "    predictions = np.round(A2)\r\n",
        "    ### END CODE HERE ###\r\n",
        "    \r\n",
        "    return predictions"
      ],
      "execution_count": 133,
      "outputs": []
    },
    {
      "cell_type": "code",
      "metadata": {
        "colab": {
          "base_uri": "https://localhost:8080/"
        },
        "id": "0db6D3PuDJb-",
        "outputId": "b9c28cb2-762b-4106-859b-d363b83c7b93"
      },
      "source": [
        "# with 4 n_h\r\n",
        "parameters = nn_model(train_X, train_Y, n_h = 4, num_iterations=10000, print_cost=True)\r\n"
      ],
      "execution_count": 134,
      "outputs": [
        {
          "output_type": "stream",
          "text": [
            "Cost after iteration 0: 0.695590\n",
            "Cost after iteration 1000: 0.598409\n",
            "Cost after iteration 2000: 0.578476\n",
            "Cost after iteration 3000: 0.585875\n",
            "Cost after iteration 4000: 0.576766\n",
            "Cost after iteration 5000: 0.578816\n",
            "Cost after iteration 6000: 0.573656\n",
            "Cost after iteration 7000: 0.584919\n",
            "Cost after iteration 8000: 0.578139\n",
            "Cost after iteration 9000: 0.575267\n"
          ],
          "name": "stdout"
        }
      ]
    },
    {
      "cell_type": "code",
      "metadata": {
        "colab": {
          "base_uri": "https://localhost:8080/"
        },
        "id": "ZhghuTiiL8Wv",
        "outputId": "a23e3500-fd14-4c5b-b081-d143b733c753"
      },
      "source": [
        "# with 8 n_h\r\n",
        "parameters,err = nn_model(train_X, train_Y, n_h = 8, num_iterations=20000, print_cost=True)\r\n"
      ],
      "execution_count": 149,
      "outputs": [
        {
          "output_type": "stream",
          "text": [
            "Cost after iteration 0: 0.697644\n",
            "Cost after iteration 1000: 0.576866\n",
            "Cost after iteration 2000: 0.563275\n",
            "Cost after iteration 3000: 0.541221\n",
            "Cost after iteration 4000: 0.550095\n",
            "Cost after iteration 5000: 0.544372\n",
            "Cost after iteration 6000: 0.543575\n",
            "Cost after iteration 7000: 0.521443\n",
            "Cost after iteration 8000: 0.516890\n",
            "Cost after iteration 9000: 0.529704\n",
            "Cost after iteration 10000: 0.505434\n",
            "Cost after iteration 11000: 0.509559\n",
            "Cost after iteration 12000: 0.508616\n",
            "Cost after iteration 13000: 0.510163\n",
            "Cost after iteration 14000: 0.498962\n",
            "Cost after iteration 15000: 0.516798\n",
            "Cost after iteration 16000: 0.511749\n",
            "Cost after iteration 17000: 0.501131\n",
            "Cost after iteration 18000: 0.501529\n",
            "Cost after iteration 19000: 0.503775\n"
          ],
          "name": "stdout"
        }
      ]
    },
    {
      "cell_type": "code",
      "metadata": {
        "colab": {
          "base_uri": "https://localhost:8080/"
        },
        "id": "7rNZ0ThQFHo6",
        "outputId": "11958453-71a5-47ef-9a10-b4394f693299"
      },
      "source": [
        "predictions = predict(parameters, test_X)\r\n",
        "print ('Accuracy: %d' % float((np.dot(test_Y, predictions.T) + np.dot(1 - test_Y, 1 - predictions.T)) / float(test_Y.size) * 100) + '%')"
      ],
      "execution_count": 145,
      "outputs": [
        {
          "output_type": "stream",
          "text": [
            "Accuracy: 77%\n"
          ],
          "name": "stdout"
        }
      ]
    }
  ]
}