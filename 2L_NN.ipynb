{
  "nbformat": 4,
  "nbformat_minor": 0,
  "metadata": {
    "colab": {
      "name": "2L-NN.ipynb",
      "provenance": [],
      "collapsed_sections": [],
      "include_colab_link": true
    },
    "kernelspec": {
      "display_name": "Python 3",
      "name": "python3"
    }
  },
  "cells": [
    {
      "cell_type": "markdown",
      "metadata": {
        "id": "view-in-github",
        "colab_type": "text"
      },
      "source": [
        "<a href=\"https://colab.research.google.com/github/santimirandarp/mlnotebook/blob/main/2L_NN.ipynb\" target=\"_parent\"><img src=\"https://colab.research.google.com/assets/colab-badge.svg\" alt=\"Open In Colab\"/></a>"
      ]
    },
    {
      "cell_type": "markdown",
      "metadata": {
        "id": "YBtZ0Mh261iI"
      },
      "source": [
        "# Classification with 2L-NN\n",
        "\n",
        "\n"
      ]
    },
    {
      "cell_type": "markdown",
      "metadata": {
        "id": "ajMXQr3rSor2"
      },
      "source": [
        "## Data \n",
        "1. Get Data: [From this site](https://machinelearningmastery.com/results-for-standard-classification-and-regression-machine-learning-datasets/)\n",
        "2. Load data\n",
        "3. Explore\n",
        "4. Generate Datasets\n"
      ]
    },
    {
      "cell_type": "code",
      "metadata": {
        "id": "hgqTNBqNjY5_",
        "colab": {
          "base_uri": "https://localhost:8080/",
          "height": 206
        },
        "outputId": "bbd970d2-4534-4a11-d173-553770b5a5a3"
      },
      "source": [
        "import pandas as pd # to load csv\r\n",
        "import numpy as np # linear algebra\r\n",
        "dataUrl = \"https://raw.githubusercontent.com/santimirandarp/mlnotebook/main/diabetes.csv\"\r\n",
        "df = pd.read_csv(dataUrl)\r\n",
        "df.head()\r\n",
        "# df.columns.values\r\n"
      ],
      "execution_count": 68,
      "outputs": [
        {
          "output_type": "execute_result",
          "data": {
            "text/html": [
              "<div>\n",
              "<style scoped>\n",
              "    .dataframe tbody tr th:only-of-type {\n",
              "        vertical-align: middle;\n",
              "    }\n",
              "\n",
              "    .dataframe tbody tr th {\n",
              "        vertical-align: top;\n",
              "    }\n",
              "\n",
              "    .dataframe thead th {\n",
              "        text-align: right;\n",
              "    }\n",
              "</style>\n",
              "<table border=\"1\" class=\"dataframe\">\n",
              "  <thead>\n",
              "    <tr style=\"text-align: right;\">\n",
              "      <th></th>\n",
              "      <th>6</th>\n",
              "      <th>148</th>\n",
              "      <th>72</th>\n",
              "      <th>35</th>\n",
              "      <th>0</th>\n",
              "      <th>33.6</th>\n",
              "      <th>0.627</th>\n",
              "      <th>50</th>\n",
              "      <th>1</th>\n",
              "    </tr>\n",
              "  </thead>\n",
              "  <tbody>\n",
              "    <tr>\n",
              "      <th>0</th>\n",
              "      <td>1</td>\n",
              "      <td>85</td>\n",
              "      <td>66</td>\n",
              "      <td>29</td>\n",
              "      <td>0</td>\n",
              "      <td>26.6</td>\n",
              "      <td>0.351</td>\n",
              "      <td>31</td>\n",
              "      <td>0</td>\n",
              "    </tr>\n",
              "    <tr>\n",
              "      <th>1</th>\n",
              "      <td>8</td>\n",
              "      <td>183</td>\n",
              "      <td>64</td>\n",
              "      <td>0</td>\n",
              "      <td>0</td>\n",
              "      <td>23.3</td>\n",
              "      <td>0.672</td>\n",
              "      <td>32</td>\n",
              "      <td>1</td>\n",
              "    </tr>\n",
              "    <tr>\n",
              "      <th>2</th>\n",
              "      <td>1</td>\n",
              "      <td>89</td>\n",
              "      <td>66</td>\n",
              "      <td>23</td>\n",
              "      <td>94</td>\n",
              "      <td>28.1</td>\n",
              "      <td>0.167</td>\n",
              "      <td>21</td>\n",
              "      <td>0</td>\n",
              "    </tr>\n",
              "    <tr>\n",
              "      <th>3</th>\n",
              "      <td>0</td>\n",
              "      <td>137</td>\n",
              "      <td>40</td>\n",
              "      <td>35</td>\n",
              "      <td>168</td>\n",
              "      <td>43.1</td>\n",
              "      <td>2.288</td>\n",
              "      <td>33</td>\n",
              "      <td>1</td>\n",
              "    </tr>\n",
              "    <tr>\n",
              "      <th>4</th>\n",
              "      <td>5</td>\n",
              "      <td>116</td>\n",
              "      <td>74</td>\n",
              "      <td>0</td>\n",
              "      <td>0</td>\n",
              "      <td>25.6</td>\n",
              "      <td>0.201</td>\n",
              "      <td>30</td>\n",
              "      <td>0</td>\n",
              "    </tr>\n",
              "  </tbody>\n",
              "</table>\n",
              "</div>"
            ],
            "text/plain": [
              "   6  148  72  35    0  33.6  0.627  50  1\n",
              "0  1   85  66  29    0  26.6  0.351  31  0\n",
              "1  8  183  64   0    0  23.3  0.672  32  1\n",
              "2  1   89  66  23   94  28.1  0.167  21  0\n",
              "3  0  137  40  35  168  43.1  2.288  33  1\n",
              "4  5  116  74   0    0  25.6  0.201  30  0"
            ]
          },
          "metadata": {
            "tags": []
          },
          "execution_count": 68
        }
      ]
    },
    {
      "cell_type": "markdown",
      "metadata": {
        "id": "L3zoptrCt0p2"
      },
      "source": [
        ""
      ]
    },
    {
      "cell_type": "markdown",
      "metadata": {
        "id": "ephqF6IFreYD"
      },
      "source": [
        "### Explore the data\n",
        "1. Balance between 0 and 1 (biased?)\n",
        "2. size (rows and cols)"
      ]
    },
    {
      "cell_type": "code",
      "metadata": {
        "colab": {
          "base_uri": "https://localhost:8080/"
        },
        "id": "gSihagD8t3-1",
        "outputId": "67b0da2b-53fc-42c9-d9b2-12f6b890a154"
      },
      "source": [
        "balance = df.iloc[:, -1:].value_counts()\n",
        "samples = df.shape[0]\n",
        "features = df.shape[1]-1 # one is labels\n",
        "print(\"values of 1 and 0:\", balance)\n",
        "print(\"values of samples:\", samples)\n",
        "print(\"values of features:\", features)"
      ],
      "execution_count": 69,
      "outputs": [
        {
          "output_type": "stream",
          "text": [
            "values of 1 and 0: 1\n",
            "0    500\n",
            "1    267\n",
            "dtype: int64\n",
            "values of samples: 767\n",
            "values of features: 8\n"
          ],
          "name": "stdout"
        }
      ]
    },
    {
      "cell_type": "markdown",
      "metadata": {
        "id": "T8E2sXdMuNLY"
      },
      "source": [
        "### Generate datasets\n",
        "* Split train and validation dset\n",
        "* Store in object \"data\"\n",
        "* Convert each to numpy ndarray\n",
        "* print info"
      ]
    },
    {
      "cell_type": "code",
      "metadata": {
        "colab": {
          "base_uri": "https://localhost:8080/"
        },
        "id": "uwrD5_BAn9Vw",
        "outputId": "10b916e2-a5b9-4be0-9ebb-83f1e5176b31"
      },
      "source": [
        "\n",
        "ix = -int(np.floor(np.sqrt(df.shape[0]))) #to build test dataset\n",
        "\n",
        "data = {\n",
        "    \"tf\": df.iloc[:ix,:-1], \n",
        "    \"tl\": df.iloc[:ix,-1:], \n",
        "    \"vf\": df.iloc[ix:,:-1], \n",
        "    \"vl\": df.iloc[ix:,-1:]\n",
        "    }\n",
        "\n",
        "#data to numpy n-dimensional arrays\n",
        "train_X = data[\"tf\"].to_numpy().T\n",
        "train_Y = data[\"tl\"].to_numpy().T\n",
        "test_X = data[\"vf\"].to_numpy().T\n",
        "test_Y = data[\"vl\"].to_numpy().T\n",
        "\n",
        "#print info\n",
        "print(\"training m, validation m: \", train_X.shape[0],\",\", -ix)\n",
        "print(\"m, features:\", train_X.shape)\n",
        "print(\"m, nodes:\", train_Y.shape)\n",
        " "
      ],
      "execution_count": 74,
      "outputs": [
        {
          "output_type": "stream",
          "text": [
            "training m, validation m:  8 , 27\n",
            "m, features: (8, 740)\n",
            "m, nodes: (1, 740)\n"
          ],
          "name": "stdout"
        }
      ]
    },
    {
      "cell_type": "markdown",
      "metadata": {
        "id": "KI0FqK6z3HbX"
      },
      "source": [
        "## Model\n",
        "\n",
        "* To start with, let's represent a simplified model\n",
        "* We have 7 nodes in the input layer\n",
        "* The rest is the same\n",
        "# <img src=\"https://raw.githubusercontent.com/santimirandarp/mlnotebook/main/model.png\" style=\"width:400px\"/>"
      ]
    },
    {
      "cell_type": "code",
      "metadata": {
        "colab": {
          "base_uri": "https://localhost:8080/"
        },
        "id": "LorZBUL11FKD",
        "outputId": "69986fba-5ed7-4df1-a0b6-aa4ff9a2e0d1"
      },
      "source": [
        "m = train_X.shape[1] \n",
        "print(m)"
      ],
      "execution_count": 75,
      "outputs": [
        {
          "output_type": "stream",
          "text": [
            "740\n"
          ],
          "name": "stdout"
        }
      ]
    },
    {
      "cell_type": "code",
      "metadata": {
        "id": "bPWKNNxGQNN-"
      },
      "source": [
        "def layer_sizes(X, Y):\n",
        "    \"\"\"\n",
        "    Arguments:\n",
        "    X -- input dataset of shape (input size, number of examples)\n",
        "    Y -- labels of shape (output size, number of examples)\n",
        "    \n",
        "    Returns:\n",
        "    n_x -- the size of the input layer\n",
        "    n_h -- the size of the hidden layer\n",
        "    n_y -- the size of the output layer\n",
        "    \"\"\"\n",
        "    ### START CODE HERE ### (≈ 3 lines of code)\n",
        "    n_x = X.shape[0] # n features\n",
        "    n_h = 4\n",
        "    n_y = Y.shape[0] # last node\n",
        "    \n",
        "    ### END CODE HERE ###\n",
        "    return (n_x, n_h, n_y)"
      ],
      "execution_count": 67,
      "outputs": []
    },
    {
      "cell_type": "markdown",
      "metadata": {
        "id": "OLOZUkUG1Glk"
      },
      "source": [
        ""
      ]
    },
    {
      "cell_type": "code",
      "metadata": {
        "id": "YV0PAjofSQrp"
      },
      "source": [
        ""
      ],
      "execution_count": null,
      "outputs": []
    }
  ]
}